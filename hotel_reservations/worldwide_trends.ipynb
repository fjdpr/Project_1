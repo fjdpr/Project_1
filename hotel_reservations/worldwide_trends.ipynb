{
 "cells": [
  {
   "cell_type": "code",
   "execution_count": 1,
   "metadata": {},
   "outputs": [],
   "source": [
    "# Dependencies and Setup\n",
    "import matplotlib.pyplot as plt\n",
    "import pandas as pd\n",
    "import numpy as np\n",
    "import scipy.stats as st\n",
    "import requests\n",
    "import time\n",
    "import pycountry\n",
    "from scipy.stats import linregress"
   ]
  },
  {
   "cell_type": "code",
   "execution_count": 2,
   "metadata": {},
   "outputs": [
    {
     "data": {
      "text/html": [
       "<div>\n",
       "<style scoped>\n",
       "    .dataframe tbody tr th:only-of-type {\n",
       "        vertical-align: middle;\n",
       "    }\n",
       "\n",
       "    .dataframe tbody tr th {\n",
       "        vertical-align: top;\n",
       "    }\n",
       "\n",
       "    .dataframe thead th {\n",
       "        text-align: right;\n",
       "    }\n",
       "</style>\n",
       "<table border=\"1\" class=\"dataframe\">\n",
       "  <thead>\n",
       "    <tr style=\"text-align: right;\">\n",
       "      <th></th>\n",
       "      <th>hotel</th>\n",
       "      <th>is_canceled</th>\n",
       "      <th>lead_time</th>\n",
       "      <th>arrival_date_year</th>\n",
       "      <th>arrival_date_month</th>\n",
       "      <th>arrival_date_week_number</th>\n",
       "      <th>arrival_date_day_of_month</th>\n",
       "      <th>stays_in_weekend_nights</th>\n",
       "      <th>stays_in_week_nights</th>\n",
       "      <th>adults</th>\n",
       "      <th>...</th>\n",
       "      <th>deposit_type</th>\n",
       "      <th>agent</th>\n",
       "      <th>company</th>\n",
       "      <th>days_in_waiting_list</th>\n",
       "      <th>customer_type</th>\n",
       "      <th>adr</th>\n",
       "      <th>required_car_parking_spaces</th>\n",
       "      <th>total_of_special_requests</th>\n",
       "      <th>reservation_status</th>\n",
       "      <th>reservation_status_date</th>\n",
       "    </tr>\n",
       "  </thead>\n",
       "  <tbody>\n",
       "    <tr>\n",
       "      <th>0</th>\n",
       "      <td>Resort Hotel</td>\n",
       "      <td>0</td>\n",
       "      <td>342</td>\n",
       "      <td>2015</td>\n",
       "      <td>July</td>\n",
       "      <td>27</td>\n",
       "      <td>1</td>\n",
       "      <td>0</td>\n",
       "      <td>0</td>\n",
       "      <td>2</td>\n",
       "      <td>...</td>\n",
       "      <td>No Deposit</td>\n",
       "      <td>NaN</td>\n",
       "      <td>NaN</td>\n",
       "      <td>0</td>\n",
       "      <td>Transient</td>\n",
       "      <td>0.0</td>\n",
       "      <td>0</td>\n",
       "      <td>0</td>\n",
       "      <td>Check-Out</td>\n",
       "      <td>2015-07-01</td>\n",
       "    </tr>\n",
       "    <tr>\n",
       "      <th>1</th>\n",
       "      <td>Resort Hotel</td>\n",
       "      <td>0</td>\n",
       "      <td>737</td>\n",
       "      <td>2015</td>\n",
       "      <td>July</td>\n",
       "      <td>27</td>\n",
       "      <td>1</td>\n",
       "      <td>0</td>\n",
       "      <td>0</td>\n",
       "      <td>2</td>\n",
       "      <td>...</td>\n",
       "      <td>No Deposit</td>\n",
       "      <td>NaN</td>\n",
       "      <td>NaN</td>\n",
       "      <td>0</td>\n",
       "      <td>Transient</td>\n",
       "      <td>0.0</td>\n",
       "      <td>0</td>\n",
       "      <td>0</td>\n",
       "      <td>Check-Out</td>\n",
       "      <td>2015-07-01</td>\n",
       "    </tr>\n",
       "    <tr>\n",
       "      <th>2</th>\n",
       "      <td>Resort Hotel</td>\n",
       "      <td>0</td>\n",
       "      <td>7</td>\n",
       "      <td>2015</td>\n",
       "      <td>July</td>\n",
       "      <td>27</td>\n",
       "      <td>1</td>\n",
       "      <td>0</td>\n",
       "      <td>1</td>\n",
       "      <td>1</td>\n",
       "      <td>...</td>\n",
       "      <td>No Deposit</td>\n",
       "      <td>NaN</td>\n",
       "      <td>NaN</td>\n",
       "      <td>0</td>\n",
       "      <td>Transient</td>\n",
       "      <td>75.0</td>\n",
       "      <td>0</td>\n",
       "      <td>0</td>\n",
       "      <td>Check-Out</td>\n",
       "      <td>2015-07-02</td>\n",
       "    </tr>\n",
       "    <tr>\n",
       "      <th>3</th>\n",
       "      <td>Resort Hotel</td>\n",
       "      <td>0</td>\n",
       "      <td>13</td>\n",
       "      <td>2015</td>\n",
       "      <td>July</td>\n",
       "      <td>27</td>\n",
       "      <td>1</td>\n",
       "      <td>0</td>\n",
       "      <td>1</td>\n",
       "      <td>1</td>\n",
       "      <td>...</td>\n",
       "      <td>No Deposit</td>\n",
       "      <td>304.0</td>\n",
       "      <td>NaN</td>\n",
       "      <td>0</td>\n",
       "      <td>Transient</td>\n",
       "      <td>75.0</td>\n",
       "      <td>0</td>\n",
       "      <td>0</td>\n",
       "      <td>Check-Out</td>\n",
       "      <td>2015-07-02</td>\n",
       "    </tr>\n",
       "    <tr>\n",
       "      <th>4</th>\n",
       "      <td>Resort Hotel</td>\n",
       "      <td>0</td>\n",
       "      <td>14</td>\n",
       "      <td>2015</td>\n",
       "      <td>July</td>\n",
       "      <td>27</td>\n",
       "      <td>1</td>\n",
       "      <td>0</td>\n",
       "      <td>2</td>\n",
       "      <td>2</td>\n",
       "      <td>...</td>\n",
       "      <td>No Deposit</td>\n",
       "      <td>240.0</td>\n",
       "      <td>NaN</td>\n",
       "      <td>0</td>\n",
       "      <td>Transient</td>\n",
       "      <td>98.0</td>\n",
       "      <td>0</td>\n",
       "      <td>1</td>\n",
       "      <td>Check-Out</td>\n",
       "      <td>2015-07-03</td>\n",
       "    </tr>\n",
       "  </tbody>\n",
       "</table>\n",
       "<p>5 rows × 32 columns</p>\n",
       "</div>"
      ],
      "text/plain": [
       "          hotel  is_canceled  lead_time  arrival_date_year arrival_date_month  \\\n",
       "0  Resort Hotel            0        342               2015               July   \n",
       "1  Resort Hotel            0        737               2015               July   \n",
       "2  Resort Hotel            0          7               2015               July   \n",
       "3  Resort Hotel            0         13               2015               July   \n",
       "4  Resort Hotel            0         14               2015               July   \n",
       "\n",
       "   arrival_date_week_number  arrival_date_day_of_month  \\\n",
       "0                        27                          1   \n",
       "1                        27                          1   \n",
       "2                        27                          1   \n",
       "3                        27                          1   \n",
       "4                        27                          1   \n",
       "\n",
       "   stays_in_weekend_nights  stays_in_week_nights  adults  ...  deposit_type  \\\n",
       "0                        0                     0       2  ...    No Deposit   \n",
       "1                        0                     0       2  ...    No Deposit   \n",
       "2                        0                     1       1  ...    No Deposit   \n",
       "3                        0                     1       1  ...    No Deposit   \n",
       "4                        0                     2       2  ...    No Deposit   \n",
       "\n",
       "   agent company days_in_waiting_list customer_type   adr  \\\n",
       "0    NaN     NaN                    0     Transient   0.0   \n",
       "1    NaN     NaN                    0     Transient   0.0   \n",
       "2    NaN     NaN                    0     Transient  75.0   \n",
       "3  304.0     NaN                    0     Transient  75.0   \n",
       "4  240.0     NaN                    0     Transient  98.0   \n",
       "\n",
       "   required_car_parking_spaces  total_of_special_requests  reservation_status  \\\n",
       "0                            0                          0           Check-Out   \n",
       "1                            0                          0           Check-Out   \n",
       "2                            0                          0           Check-Out   \n",
       "3                            0                          0           Check-Out   \n",
       "4                            0                          1           Check-Out   \n",
       "\n",
       "  reservation_status_date  \n",
       "0              2015-07-01  \n",
       "1              2015-07-01  \n",
       "2              2015-07-02  \n",
       "3              2015-07-02  \n",
       "4              2015-07-03  \n",
       "\n",
       "[5 rows x 32 columns]"
      ]
     },
     "execution_count": 2,
     "metadata": {},
     "output_type": "execute_result"
    }
   ],
   "source": [
    "# Data File\n",
    "hotel_data_path = \"data/hotel_bookings.csv\"\n",
    "\n",
    "# Read Data File and store into Pandas DataFrames\n",
    "hotel_data = pd.read_csv(hotel_data_path)\n",
    "\n",
    "hotel_data.head()"
   ]
  },
  {
   "cell_type": "code",
   "execution_count": 3,
   "metadata": {},
   "outputs": [
    {
     "data": {
      "text/plain": [
       "Index(['hotel', 'is_canceled', 'lead_time', 'arrival_date_year',\n",
       "       'arrival_date_month', 'arrival_date_week_number',\n",
       "       'arrival_date_day_of_month', 'stays_in_weekend_nights',\n",
       "       'stays_in_week_nights', 'adults', 'children', 'babies', 'meal',\n",
       "       'country', 'market_segment', 'distribution_channel',\n",
       "       'is_repeated_guest', 'previous_cancellations',\n",
       "       'previous_bookings_not_canceled', 'reserved_room_type',\n",
       "       'assigned_room_type', 'booking_changes', 'deposit_type', 'agent',\n",
       "       'company', 'days_in_waiting_list', 'customer_type', 'adr',\n",
       "       'required_car_parking_spaces', 'total_of_special_requests',\n",
       "       'reservation_status', 'reservation_status_date'],\n",
       "      dtype='object')"
      ]
     },
     "execution_count": 3,
     "metadata": {},
     "output_type": "execute_result"
    }
   ],
   "source": [
    "hotel_data.columns"
   ]
  },
  {
   "cell_type": "code",
   "execution_count": 4,
   "metadata": {},
   "outputs": [
    {
     "data": {
      "text/plain": [
       "Index(['Hotel', 'Is canceled', 'Lead time', 'Arrival date year',\n",
       "       'Arrival date month', 'Arrival date week number',\n",
       "       'Arrival date day of month', 'Stays in weekend nights',\n",
       "       'Stays in week nights', 'Adults', 'Children', 'Babies', 'Meal',\n",
       "       'Country', 'Market segment', 'Distribution channel',\n",
       "       'Is repeated guest', 'Previous cancellations',\n",
       "       'Previous bookings not canceled', 'Reserved room type',\n",
       "       'Assigned room type', 'Booking changes', 'Deposit type', 'Agent',\n",
       "       'Company', 'Days in waiting list', 'Customer type', 'ADR',\n",
       "       'Required car parking spaces', 'Total of special requests',\n",
       "       'Reservation status', 'Reservation status date'],\n",
       "      dtype='object')"
      ]
     },
     "execution_count": 4,
     "metadata": {},
     "output_type": "execute_result"
    }
   ],
   "source": [
    "# Create a new DataFrame\n",
    "new_hotel_data = hotel_data.copy()\n",
    "\n",
    "# Rename columns for better understanding\n",
    "rename_columns = {\n",
    "    'hotel': 'Hotel',\n",
    "    'is_canceled': 'Is canceled',\n",
    "    'lead_time': 'Lead time',\n",
    "    'arrival_date_year': 'Arrival date year',\n",
    "    'arrival_date_month': 'Arrival date month',\n",
    "    'arrival_date_week_number': 'Arrival date week number',\n",
    "    'arrival_date_day_of_month': 'Arrival date day of month',\n",
    "    'stays_in_weekend_nights': 'Stays in weekend nights',\n",
    "    'stays_in_week_nights': 'Stays in week nights',\n",
    "    'adults': 'Adults',\n",
    "    'children': 'Children',\n",
    "    'babies': 'Babies',\n",
    "    'meal': 'Meal',\n",
    "    'country': 'Country',\n",
    "    'market_segment': 'Market segment',\n",
    "    'distribution_channel': 'Distribution channel',\n",
    "    'is_repeated_guest': 'Is repeated guest',\n",
    "    'previous_cancellations': 'Previous cancellations',\n",
    "    'previous_bookings_not_canceled': 'Previous bookings not canceled',\n",
    "    'reserved_room_type': 'Reserved room type',\n",
    "    'assigned_room_type': 'Assigned room type',\n",
    "    'booking_changes': 'Booking changes',\n",
    "    'deposit_type': 'Deposit type',\n",
    "    'agent': 'Agent',\n",
    "    'company': 'Company',\n",
    "    'days_in_waiting_list': 'Days in waiting list',\n",
    "    'customer_type': 'Customer type',\n",
    "    'adr': 'ADR',\n",
    "    'required_car_parking_spaces': 'Required car parking spaces',\n",
    "    'total_of_special_requests': 'Total of special requests',\n",
    "    'reservation_status': 'Reservation status',\n",
    "    'reservation_status_date': 'Reservation status date'\n",
    "}\n",
    "\n",
    "# Rename DataFrame columns using dictionary\n",
    "new_hotel_data.rename(columns=rename_columns, inplace=True)\n",
    "\n",
    "# Show the new column names\n",
    "new_hotel_data.columns"
   ]
  },
  {
   "cell_type": "code",
   "execution_count": 5,
   "metadata": {},
   "outputs": [
    {
     "name": "stdout",
     "output_type": "stream",
     "text": [
      "<class 'pandas.core.frame.DataFrame'>\n",
      "RangeIndex: 119390 entries, 0 to 119389\n",
      "Data columns (total 32 columns):\n",
      " #   Column                          Non-Null Count   Dtype  \n",
      "---  ------                          --------------   -----  \n",
      " 0   Hotel                           119390 non-null  object \n",
      " 1   Is canceled                     119390 non-null  int64  \n",
      " 2   Lead time                       119390 non-null  int64  \n",
      " 3   Arrival date year               119390 non-null  int64  \n",
      " 4   Arrival date month              119390 non-null  object \n",
      " 5   Arrival date week number        119390 non-null  int64  \n",
      " 6   Arrival date day of month       119390 non-null  int64  \n",
      " 7   Stays in weekend nights         119390 non-null  int64  \n",
      " 8   Stays in week nights            119390 non-null  int64  \n",
      " 9   Adults                          119390 non-null  int64  \n",
      " 10  Children                        119386 non-null  float64\n",
      " 11  Babies                          119390 non-null  int64  \n",
      " 12  Meal                            119390 non-null  object \n",
      " 13  Country                         118902 non-null  object \n",
      " 14  Market segment                  119390 non-null  object \n",
      " 15  Distribution channel            119390 non-null  object \n",
      " 16  Is repeated guest               119390 non-null  int64  \n",
      " 17  Previous cancellations          119390 non-null  int64  \n",
      " 18  Previous bookings not canceled  119390 non-null  int64  \n",
      " 19  Reserved room type              119390 non-null  object \n",
      " 20  Assigned room type              119390 non-null  object \n",
      " 21  Booking changes                 119390 non-null  int64  \n",
      " 22  Deposit type                    119390 non-null  object \n",
      " 23  Agent                           103050 non-null  float64\n",
      " 24  Company                         6797 non-null    float64\n",
      " 25  Days in waiting list            119390 non-null  int64  \n",
      " 26  Customer type                   119390 non-null  object \n",
      " 27  ADR                             119390 non-null  float64\n",
      " 28  Required car parking spaces     119390 non-null  int64  \n",
      " 29  Total of special requests       119390 non-null  int64  \n",
      " 30  Reservation status              119390 non-null  object \n",
      " 31  Reservation status date         119390 non-null  object \n",
      "dtypes: float64(4), int64(16), object(12)\n",
      "memory usage: 29.1+ MB\n"
     ]
    }
   ],
   "source": [
    "new_hotel_data.info()"
   ]
  },
  {
   "cell_type": "code",
   "execution_count": 6,
   "metadata": {},
   "outputs": [],
   "source": [
    "# Removing the 'Company' column due to missing data\n",
    "new_hotel_data.drop('Company',inplace=True,axis=1)"
   ]
  },
  {
   "cell_type": "code",
   "execution_count": null,
   "metadata": {},
   "outputs": [],
   "source": []
  },
  {
   "cell_type": "code",
   "execution_count": null,
   "metadata": {},
   "outputs": [],
   "source": []
  },
  {
   "cell_type": "code",
   "execution_count": null,
   "metadata": {},
   "outputs": [],
   "source": []
  },
  {
   "cell_type": "code",
   "execution_count": 12,
   "metadata": {},
   "outputs": [],
   "source": [
    "# Replacement dictionary for the 'Meal' column\n",
    "meal_replacements = {\n",
    "    'SC': 'Self-catering',\n",
    "    'BB': 'Bed and breakfast',\n",
    "    'HB': 'Half board',\n",
    "    'FB': 'Full board'\n",
    "}\n",
    "\n",
    "# Replace acronyms with full names in the 'Meal' column\n",
    "new_hotel_data['Meal'] = new_hotel_data['Meal'].replace(meal_replacements)"
   ]
  },
  {
   "cell_type": "code",
   "execution_count": 13,
   "metadata": {},
   "outputs": [
    {
     "data": {
      "text/plain": [
       "array(['Bed and breakfast', 'Full board', 'Half board', 'Self-catering',\n",
       "       'Undefined'], dtype=object)"
      ]
     },
     "execution_count": 13,
     "metadata": {},
     "output_type": "execute_result"
    }
   ],
   "source": [
    "# Check changes\n",
    "new_hotel_data['Meal'].unique()"
   ]
  },
  {
   "cell_type": "code",
   "execution_count": 14,
   "metadata": {},
   "outputs": [],
   "source": [
    "# Remove duplicate rows to prevent skewing the analysis.\n",
    "new_hotel_data.drop_duplicates(inplace=True)"
   ]
  },
  {
   "cell_type": "code",
   "execution_count": 15,
   "metadata": {},
   "outputs": [
    {
     "name": "stdout",
     "output_type": "stream",
     "text": [
      "Columns with null values:\n",
      "['Children', 'Agent']\n"
     ]
    }
   ],
   "source": [
    "# Check columns for null values\n",
    "null_columns = new_hotel_data.columns[new_hotel_data.isnull().any()].tolist()\n",
    "print(\"Columns with null values:\")\n",
    "print(null_columns)"
   ]
  },
  {
   "cell_type": "code",
   "execution_count": 16,
   "metadata": {},
   "outputs": [
    {
     "data": {
      "text/plain": [
       "array(['0.0', '1.0', '2.0', '10.0', '3.0', 'nan'], dtype=object)"
      ]
     },
     "execution_count": 16,
     "metadata": {},
     "output_type": "execute_result"
    }
   ],
   "source": [
    "# Check the data in the 'Children' column\n",
    "new_hotel_data['Children'].astype(str).unique()"
   ]
  },
  {
   "cell_type": "code",
   "execution_count": 17,
   "metadata": {},
   "outputs": [
    {
     "data": {
      "text/plain": [
       "array(['nan', '304.0', '240.0', '303.0', '15.0', '241.0', '8.0', '250.0',\n",
       "       '115.0', '5.0', '175.0', '134.0', '156.0', '243.0', '242.0', '3.0',\n",
       "       '105.0', '40.0', '147.0', '306.0', '184.0', '96.0', '2.0', '127.0',\n",
       "       '95.0', '146.0', '9.0', '177.0', '6.0', '143.0', '244.0', '149.0',\n",
       "       '167.0', '300.0', '171.0', '305.0', '67.0', '196.0', '152.0',\n",
       "       '142.0', '261.0', '104.0', '36.0', '26.0', '29.0', '258.0',\n",
       "       '110.0', '71.0', '181.0', '88.0', '251.0', '275.0', '69.0',\n",
       "       '248.0', '208.0', '256.0', '314.0', '126.0', '281.0', '273.0',\n",
       "       '253.0', '185.0', '330.0', '334.0', '328.0', '326.0', '321.0',\n",
       "       '324.0', '313.0', '38.0', '155.0', '68.0', '335.0', '308.0',\n",
       "       '332.0', '94.0', '348.0', '310.0', '339.0', '375.0', '66.0',\n",
       "       '327.0', '387.0', '298.0', '91.0', '245.0', '385.0', '257.0',\n",
       "       '393.0', '168.0', '405.0', '249.0', '315.0', '75.0', '128.0',\n",
       "       '307.0', '11.0', '436.0', '1.0', '201.0', '183.0', '223.0',\n",
       "       '368.0', '336.0', '291.0', '464.0', '411.0', '481.0', '10.0',\n",
       "       '154.0', '468.0', '410.0', '390.0', '440.0', '495.0', '492.0',\n",
       "       '493.0', '434.0', '57.0', '531.0', '420.0', '483.0', '526.0',\n",
       "       '472.0', '429.0', '16.0', '446.0', '34.0', '78.0', '139.0',\n",
       "       '252.0', '270.0', '47.0', '114.0', '301.0', '193.0', '182.0',\n",
       "       '135.0', '350.0', '195.0', '352.0', '355.0', '159.0', '363.0',\n",
       "       '384.0', '360.0', '331.0', '367.0', '64.0', '406.0', '163.0',\n",
       "       '414.0', '333.0', '427.0', '431.0', '430.0', '426.0', '438.0',\n",
       "       '433.0', '418.0', '441.0', '282.0', '432.0', '72.0', '450.0',\n",
       "       '180.0', '454.0', '455.0', '59.0', '451.0', '254.0', '358.0',\n",
       "       '469.0', '165.0', '467.0', '510.0', '337.0', '476.0', '502.0',\n",
       "       '527.0', '479.0', '508.0', '535.0', '302.0', '497.0', '187.0',\n",
       "       '13.0', '7.0', '27.0', '14.0', '22.0', '17.0', '28.0', '42.0',\n",
       "       '20.0', '19.0', '45.0', '37.0', '61.0', '39.0', '21.0', '24.0',\n",
       "       '41.0', '50.0', '30.0', '54.0', '52.0', '12.0', '44.0', '31.0',\n",
       "       '83.0', '32.0', '63.0', '60.0', '55.0', '56.0', '89.0', '87.0',\n",
       "       '118.0', '86.0', '85.0', '210.0', '214.0', '129.0', '179.0',\n",
       "       '138.0', '174.0', '170.0', '153.0', '93.0', '151.0', '119.0',\n",
       "       '35.0', '173.0', '58.0', '53.0', '133.0', '79.0', '235.0', '192.0',\n",
       "       '191.0', '236.0', '162.0', '215.0', '157.0', '287.0', '132.0',\n",
       "       '234.0', '98.0', '77.0', '103.0', '107.0', '262.0', '220.0',\n",
       "       '121.0', '205.0', '378.0', '23.0', '296.0', '290.0', '229.0',\n",
       "       '33.0', '286.0', '276.0', '425.0', '484.0', '323.0', '403.0',\n",
       "       '219.0', '394.0', '509.0', '111.0', '423.0', '4.0', '70.0', '82.0',\n",
       "       '81.0', '74.0', '92.0', '99.0', '90.0', '112.0', '117.0', '106.0',\n",
       "       '148.0', '158.0', '144.0', '211.0', '213.0', '216.0', '232.0',\n",
       "       '150.0', '267.0', '227.0', '247.0', '278.0', '280.0', '285.0',\n",
       "       '289.0', '269.0', '295.0', '265.0', '288.0', '122.0', '294.0',\n",
       "       '325.0', '341.0', '344.0', '346.0', '359.0', '283.0', '364.0',\n",
       "       '370.0', '371.0', '25.0', '141.0', '391.0', '397.0', '416.0',\n",
       "       '404.0', '299.0', '197.0', '73.0', '354.0', '444.0', '408.0',\n",
       "       '461.0', '388.0', '453.0', '459.0', '474.0', '475.0', '480.0',\n",
       "       '449.0'], dtype=object)"
      ]
     },
     "execution_count": 17,
     "metadata": {},
     "output_type": "execute_result"
    }
   ],
   "source": [
    "# Check the data in the 'Agent' column\n",
    "new_hotel_data['Agent'].astype(str).unique()"
   ]
  },
  {
   "cell_type": "code",
   "execution_count": 18,
   "metadata": {},
   "outputs": [],
   "source": [
    "# Replace 'nan' values in 'Children' and 'Agent' columns with 0\n",
    "new_hotel_data = new_hotel_data.assign(\n",
    "    Children=new_hotel_data['Children'].fillna(0),\n",
    "    Agent=new_hotel_data['Agent'].fillna(0)\n",
    ")"
   ]
  },
  {
   "cell_type": "code",
   "execution_count": 19,
   "metadata": {},
   "outputs": [
    {
     "name": "stdout",
     "output_type": "stream",
     "text": [
      "Columns with null values:\n",
      "[]\n"
     ]
    }
   ],
   "source": [
    "# Check columns for null values\n",
    "null_columns = new_hotel_data.columns[new_hotel_data.isnull().any()].tolist()\n",
    "print(\"Columns with null values:\")\n",
    "print(null_columns)"
   ]
  },
  {
   "cell_type": "code",
   "execution_count": 20,
   "metadata": {},
   "outputs": [
    {
     "name": "stdout",
     "output_type": "stream",
     "text": [
      "Hotel                                     object\n",
      "Is canceled                                int64\n",
      "Lead time                                  int64\n",
      "Arrival date year                          int64\n",
      "Arrival date month                      category\n",
      "Arrival date week number                   int64\n",
      "Arrival date day of month                  int64\n",
      "Stays in weekend nights                    int64\n",
      "Stays in week nights                       int64\n",
      "Adults                                     int64\n",
      "Children                                   int64\n",
      "Babies                                     int64\n",
      "Meal                                      object\n",
      "Country                                   object\n",
      "Market segment                            object\n",
      "Distribution channel                      object\n",
      "Is repeated guest                          int64\n",
      "Previous cancellations                     int64\n",
      "Previous bookings not canceled             int64\n",
      "Reserved room type                        object\n",
      "Assigned room type                        object\n",
      "Booking changes                            int64\n",
      "Deposit type                              object\n",
      "Agent                                      int64\n",
      "Days in waiting list                       int64\n",
      "Customer type                             object\n",
      "ADR                                      float64\n",
      "Required car parking spaces                int64\n",
      "Total of special requests                  int64\n",
      "Reservation status                        object\n",
      "Reservation status date           datetime64[ns]\n",
      "dtype: object\n"
     ]
    }
   ],
   "source": [
    "# Convert columns to appropriate data types\n",
    "new_hotel_data['Arrival date month'] = new_hotel_data['Arrival date month'].astype('category')\n",
    "new_hotel_data['Children'] = new_hotel_data['Children'].astype('int64')\n",
    "new_hotel_data['Agent'] = new_hotel_data['Agent'].astype('int64')\n",
    "new_hotel_data['Reservation status date'] = pd.to_datetime(new_hotel_data['Reservation status date'])\n",
    "\n",
    "# Display the data types to verify changes\n",
    "print(new_hotel_data.dtypes)"
   ]
  },
  {
   "cell_type": "code",
   "execution_count": 21,
   "metadata": {},
   "outputs": [],
   "source": [
    "# Add a 'Stay duration' column that calculates the total length of stay\n",
    "new_hotel_data['Stay duration'] = new_hotel_data['Stays in weekend nights'] + new_hotel_data['Stays in week nights']\n",
    "\n",
    "# Add a 'Total guests' column that adds adults, children and babies\n",
    "new_hotel_data['Total guests'] = new_hotel_data['Adults'] + new_hotel_data['Children'] + new_hotel_data['Babies']"
   ]
  },
  {
   "cell_type": "code",
   "execution_count": null,
   "metadata": {},
   "outputs": [],
   "source": []
  },
  {
   "cell_type": "code",
   "execution_count": null,
   "metadata": {},
   "outputs": [],
   "source": []
  },
  {
   "cell_type": "code",
   "execution_count": null,
   "metadata": {},
   "outputs": [],
   "source": []
  },
  {
   "cell_type": "code",
   "execution_count": null,
   "metadata": {},
   "outputs": [],
   "source": []
  },
  {
   "cell_type": "code",
   "execution_count": null,
   "metadata": {},
   "outputs": [],
   "source": []
  },
  {
   "cell_type": "code",
   "execution_count": null,
   "metadata": {},
   "outputs": [],
   "source": []
  },
  {
   "cell_type": "code",
   "execution_count": null,
   "metadata": {},
   "outputs": [],
   "source": []
  },
  {
   "cell_type": "code",
   "execution_count": null,
   "metadata": {},
   "outputs": [],
   "source": []
  },
  {
   "cell_type": "code",
   "execution_count": null,
   "metadata": {},
   "outputs": [],
   "source": []
  },
  {
   "cell_type": "code",
   "execution_count": null,
   "metadata": {},
   "outputs": [],
   "source": []
  },
  {
   "cell_type": "code",
   "execution_count": null,
   "metadata": {},
   "outputs": [],
   "source": []
  },
  {
   "cell_type": "code",
   "execution_count": null,
   "metadata": {},
   "outputs": [],
   "source": []
  },
  {
   "cell_type": "code",
   "execution_count": null,
   "metadata": {},
   "outputs": [],
   "source": []
  },
  {
   "cell_type": "code",
   "execution_count": null,
   "metadata": {},
   "outputs": [],
   "source": []
  },
  {
   "cell_type": "code",
   "execution_count": null,
   "metadata": {},
   "outputs": [],
   "source": []
  },
  {
   "cell_type": "code",
   "execution_count": null,
   "metadata": {},
   "outputs": [],
   "source": []
  },
  {
   "cell_type": "code",
   "execution_count": null,
   "metadata": {},
   "outputs": [],
   "source": []
  },
  {
   "cell_type": "code",
   "execution_count": null,
   "metadata": {},
   "outputs": [],
   "source": []
  },
  {
   "cell_type": "code",
   "execution_count": 22,
   "metadata": {},
   "outputs": [],
   "source": [
    "# Export the Data into a csv\n",
    "## hotel_data_df.to_csv(\"output_data/hotel_data.csv\", index_label=\"\")"
   ]
  },
  {
   "cell_type": "code",
   "execution_count": 23,
   "metadata": {},
   "outputs": [],
   "source": [
    "# Save the figure\n",
    "## plt.savefig(\"output_data/Fig1.png\")"
   ]
  }
 ],
 "metadata": {
  "kernelspec": {
   "display_name": "Python 3 (ipykernel)",
   "language": "python",
   "name": "python3"
  },
  "language_info": {
   "codemirror_mode": {
    "name": "ipython",
    "version": 3
   },
   "file_extension": ".py",
   "mimetype": "text/x-python",
   "name": "python",
   "nbconvert_exporter": "python",
   "pygments_lexer": "ipython3",
   "version": "3.10.15"
  }
 },
 "nbformat": 4,
 "nbformat_minor": 4
}
